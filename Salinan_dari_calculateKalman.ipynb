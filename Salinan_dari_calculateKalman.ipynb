{
  "cells": [
    {
      "cell_type": "markdown",
      "metadata": {
        "id": "view-in-github",
        "colab_type": "text"
      },
      "source": [
        "<a href=\"https://colab.research.google.com/github/GGGhifaried/Kalman-Filter/blob/main/Salinan_dari_calculateKalman.ipynb\" target=\"_parent\"><img src=\"https://colab.research.google.com/assets/colab-badge.svg\" alt=\"Open In Colab\"/></a>"
      ]
    },
    {
      "cell_type": "code",
      "execution_count": 4,
      "metadata": {
        "id": "dPGnaavb2hDA"
      },
      "outputs": [],
      "source": [
        "import numpy as np\n",
        "from pylab import ylim, title, ylabel, xlabel\n",
        "import matplotlib.pyplot as plt\n",
        "from kalman import SingleStateKalmanFilter"
      ]
    },
    {
      "cell_type": "code",
      "execution_count": 5,
      "metadata": {
        "id": "BGYYSlTj2hDK"
      },
      "outputs": [],
      "source": [
        "import pandas as pd"
      ]
    },
    {
      "cell_type": "code",
      "execution_count": 6,
      "metadata": {
        "id": "J35mANQn2hDM"
      },
      "outputs": [],
      "source": [
        "df = pd.read_csv(\"datagps.txt\",sep=\",\")\n"
      ]
    },
    {
      "cell_type": "code",
      "execution_count": 7,
      "metadata": {
        "id": "sPmbkCTV2hDO"
      },
      "outputs": [],
      "source": [
        "nilaiFix = np.full((1,len(df.Latitude)),-7.355481)\n",
        "nilaiFix1 = np.full((1,len(df.Latitude)),112.774268)"
      ]
    },
    {
      "cell_type": "code",
      "execution_count": 8,
      "metadata": {
        "id": "PKAX0-HI2hDP"
      },
      "outputs": [],
      "source": [
        "df1 = pd.DataFrame({\"fixLatitude\":nilaiFix[0,:]})"
      ]
    },
    {
      "cell_type": "code",
      "execution_count": 9,
      "metadata": {
        "id": "pwGQwsKE2hDS"
      },
      "outputs": [],
      "source": [
        "df2 = pd.DataFrame({\"fixLongitude\":nilaiFix1[0,:]})"
      ]
    },
    {
      "cell_type": "code",
      "execution_count": 10,
      "metadata": {
        "id": "K9DcWHsl2hDU"
      },
      "outputs": [],
      "source": [
        "df = pd.concat([df,df1,df2],axis=1)"
      ]
    },
    {
      "cell_type": "code",
      "execution_count": 11,
      "metadata": {
        "id": "28hxnBII2hDV"
      },
      "outputs": [],
      "source": [
        "pdata = len(df.Latitude)"
      ]
    },
    {
      "cell_type": "code",
      "execution_count": 12,
      "metadata": {
        "id": "npdvi-7Y2hDX"
      },
      "outputs": [],
      "source": [
        "A = 1  # No process innovation\n",
        "C = 1  # Measurement\n",
        "B = 0  # No control input\n",
        "Q = 0.000001 # Process covariance\n",
        "R = 1  # Measurement covariance\n",
        "x = -7.355475  # Initial estimate\n",
        "P = 1  # Initial covariance"
      ]
    },
    {
      "cell_type": "code",
      "execution_count": 13,
      "metadata": {
        "id": "OUlr6_pQ2hDZ"
      },
      "outputs": [],
      "source": [
        "kalman_filter = SingleStateKalmanFilter(A, B, C, x, P, Q, R)\n",
        "kalman_estimasi = []"
      ]
    },
    {
      "cell_type": "code",
      "execution_count": 14,
      "metadata": {
        "id": "2M0R31li2hDb"
      },
      "outputs": [],
      "source": [
        "df.reset_index(drop=True,inplace=True)"
      ]
    },
    {
      "cell_type": "code",
      "execution_count": 15,
      "metadata": {
        "id": "HtOb6VGE2hDd"
      },
      "outputs": [],
      "source": [
        "for i in range(pdata):\n",
        "    kalman_filter.step(0,df[\"Latitude\"][i])\n",
        "    kalman_estimasi.append(kalman_filter.current_state())"
      ]
    },
    {
      "cell_type": "code",
      "execution_count": 16,
      "metadata": {
        "id": "CHqeFE3x2hDe",
        "colab": {
          "base_uri": "https://localhost:8080/",
          "height": 215
        },
        "outputId": "50ce305f-1766-482a-b0e7-24e8f2056b02"
      },
      "outputs": [
        {
          "output_type": "execute_result",
          "data": {
            "text/plain": [
              "   Latitude   Longitude  fixLatitude  fixLongitude\n",
              "0 -7.355488  112.774273    -7.355481    112.774268\n",
              "1 -7.355489  112.774277    -7.355481    112.774268\n",
              "2 -7.355489  112.774277    -7.355481    112.774268\n",
              "3 -7.355489  112.774277    -7.355481    112.774268\n",
              "4 -7.355489  112.774277    -7.355481    112.774268"
            ],
            "text/html": [
              "\n",
              "  <div id=\"df-f7299513-1f56-44e3-85dd-1529945443ec\">\n",
              "    <div class=\"colab-df-container\">\n",
              "      <div>\n",
              "<style scoped>\n",
              "    .dataframe tbody tr th:only-of-type {\n",
              "        vertical-align: middle;\n",
              "    }\n",
              "\n",
              "    .dataframe tbody tr th {\n",
              "        vertical-align: top;\n",
              "    }\n",
              "\n",
              "    .dataframe thead th {\n",
              "        text-align: right;\n",
              "    }\n",
              "</style>\n",
              "<table border=\"1\" class=\"dataframe\">\n",
              "  <thead>\n",
              "    <tr style=\"text-align: right;\">\n",
              "      <th></th>\n",
              "      <th>Latitude</th>\n",
              "      <th>Longitude</th>\n",
              "      <th>fixLatitude</th>\n",
              "      <th>fixLongitude</th>\n",
              "    </tr>\n",
              "  </thead>\n",
              "  <tbody>\n",
              "    <tr>\n",
              "      <th>0</th>\n",
              "      <td>-7.355488</td>\n",
              "      <td>112.774273</td>\n",
              "      <td>-7.355481</td>\n",
              "      <td>112.774268</td>\n",
              "    </tr>\n",
              "    <tr>\n",
              "      <th>1</th>\n",
              "      <td>-7.355489</td>\n",
              "      <td>112.774277</td>\n",
              "      <td>-7.355481</td>\n",
              "      <td>112.774268</td>\n",
              "    </tr>\n",
              "    <tr>\n",
              "      <th>2</th>\n",
              "      <td>-7.355489</td>\n",
              "      <td>112.774277</td>\n",
              "      <td>-7.355481</td>\n",
              "      <td>112.774268</td>\n",
              "    </tr>\n",
              "    <tr>\n",
              "      <th>3</th>\n",
              "      <td>-7.355489</td>\n",
              "      <td>112.774277</td>\n",
              "      <td>-7.355481</td>\n",
              "      <td>112.774268</td>\n",
              "    </tr>\n",
              "    <tr>\n",
              "      <th>4</th>\n",
              "      <td>-7.355489</td>\n",
              "      <td>112.774277</td>\n",
              "      <td>-7.355481</td>\n",
              "      <td>112.774268</td>\n",
              "    </tr>\n",
              "  </tbody>\n",
              "</table>\n",
              "</div>\n",
              "      <button class=\"colab-df-convert\" onclick=\"convertToInteractive('df-f7299513-1f56-44e3-85dd-1529945443ec')\"\n",
              "              title=\"Convert this dataframe to an interactive table.\"\n",
              "              style=\"display:none;\">\n",
              "        \n",
              "  <svg xmlns=\"http://www.w3.org/2000/svg\" height=\"24px\"viewBox=\"0 0 24 24\"\n",
              "       width=\"24px\">\n",
              "    <path d=\"M0 0h24v24H0V0z\" fill=\"none\"/>\n",
              "    <path d=\"M18.56 5.44l.94 2.06.94-2.06 2.06-.94-2.06-.94-.94-2.06-.94 2.06-2.06.94zm-11 1L8.5 8.5l.94-2.06 2.06-.94-2.06-.94L8.5 2.5l-.94 2.06-2.06.94zm10 10l.94 2.06.94-2.06 2.06-.94-2.06-.94-.94-2.06-.94 2.06-2.06.94z\"/><path d=\"M17.41 7.96l-1.37-1.37c-.4-.4-.92-.59-1.43-.59-.52 0-1.04.2-1.43.59L10.3 9.45l-7.72 7.72c-.78.78-.78 2.05 0 2.83L4 21.41c.39.39.9.59 1.41.59.51 0 1.02-.2 1.41-.59l7.78-7.78 2.81-2.81c.8-.78.8-2.07 0-2.86zM5.41 20L4 18.59l7.72-7.72 1.47 1.35L5.41 20z\"/>\n",
              "  </svg>\n",
              "      </button>\n",
              "      \n",
              "  <style>\n",
              "    .colab-df-container {\n",
              "      display:flex;\n",
              "      flex-wrap:wrap;\n",
              "      gap: 12px;\n",
              "    }\n",
              "\n",
              "    .colab-df-convert {\n",
              "      background-color: #E8F0FE;\n",
              "      border: none;\n",
              "      border-radius: 50%;\n",
              "      cursor: pointer;\n",
              "      display: none;\n",
              "      fill: #1967D2;\n",
              "      height: 32px;\n",
              "      padding: 0 0 0 0;\n",
              "      width: 32px;\n",
              "    }\n",
              "\n",
              "    .colab-df-convert:hover {\n",
              "      background-color: #E2EBFA;\n",
              "      box-shadow: 0px 1px 2px rgba(60, 64, 67, 0.3), 0px 1px 3px 1px rgba(60, 64, 67, 0.15);\n",
              "      fill: #174EA6;\n",
              "    }\n",
              "\n",
              "    [theme=dark] .colab-df-convert {\n",
              "      background-color: #3B4455;\n",
              "      fill: #D2E3FC;\n",
              "    }\n",
              "\n",
              "    [theme=dark] .colab-df-convert:hover {\n",
              "      background-color: #434B5C;\n",
              "      box-shadow: 0px 1px 3px 1px rgba(0, 0, 0, 0.15);\n",
              "      filter: drop-shadow(0px 1px 2px rgba(0, 0, 0, 0.3));\n",
              "      fill: #FFFFFF;\n",
              "    }\n",
              "  </style>\n",
              "\n",
              "      <script>\n",
              "        const buttonEl =\n",
              "          document.querySelector('#df-f7299513-1f56-44e3-85dd-1529945443ec button.colab-df-convert');\n",
              "        buttonEl.style.display =\n",
              "          google.colab.kernel.accessAllowed ? 'block' : 'none';\n",
              "\n",
              "        async function convertToInteractive(key) {\n",
              "          const element = document.querySelector('#df-f7299513-1f56-44e3-85dd-1529945443ec');\n",
              "          const dataTable =\n",
              "            await google.colab.kernel.invokeFunction('convertToInteractive',\n",
              "                                                     [key], {});\n",
              "          if (!dataTable) return;\n",
              "\n",
              "          const docLinkHtml = 'Like what you see? Visit the ' +\n",
              "            '<a target=\"_blank\" href=https://colab.research.google.com/notebooks/data_table.ipynb>data table notebook</a>'\n",
              "            + ' to learn more about interactive tables.';\n",
              "          element.innerHTML = '';\n",
              "          dataTable['output_type'] = 'display_data';\n",
              "          await google.colab.output.renderOutput(dataTable, element);\n",
              "          const docLink = document.createElement('div');\n",
              "          docLink.innerHTML = docLinkHtml;\n",
              "          element.appendChild(docLink);\n",
              "        }\n",
              "      </script>\n",
              "    </div>\n",
              "  </div>\n",
              "  "
            ]
          },
          "metadata": {},
          "execution_count": 16
        }
      ],
      "source": [
        "df.head()"
      ]
    },
    {
      "cell_type": "code",
      "execution_count": 17,
      "metadata": {
        "scrolled": true,
        "id": "ABZfx59f2hDh",
        "colab": {
          "base_uri": "https://localhost:8080/",
          "height": 276
        },
        "outputId": "7d774b92-7b92-4a68-e588-e67c624018f2"
      },
      "outputs": [
        {
          "output_type": "display_data",
          "data": {
            "text/plain": [
              "<Figure size 432x288 with 1 Axes>"
            ],
            "image/png": "[encoded data removed]"
          },
          "metadata": {
            "needs_background": "light"
          }
        }
      ],
      "source": [
        "plt.plot(df.Latitude,'r')\n",
        "plt.plot(df.fixLatitude,\"k\")\n",
        "plt.plot(kalman_estimasi,\"b\")\n",
        "plt.show()"
      ]
    },
    {
      "cell_type": "code",
      "execution_count": 18,
      "metadata": {
        "id": "TdTm7NDs2hDi"
      },
      "outputs": [],
      "source": [
        "A = 1  # No process innovation\n",
        "C = 1  # Measurement\n",
        "B = 0  # No control input\n",
        "Q = 0.000001 # Process covariance\n",
        "R = 1  # Measurement covariance\n",
        "x = 112.774277  # Initial estimate\n",
        "P = 1  # Initial covariance\n",
        "kalman_filter_long = SingleStateKalmanFilter(A, B, C, x, P, Q, R)\n",
        "kalman_estimasi_long = []\n",
        "for i in range(pdata):\n",
        "    kalman_filter_long.step(0,df[\"Longitude\"][i])\n",
        "    kalman_estimasi_long.append(kalman_filter_long.current_state())\n"
      ]
    },
    {
      "cell_type": "code",
      "execution_count": 19,
      "metadata": {
        "id": "zZWMzFZJ2hDk",
        "colab": {
          "base_uri": "https://localhost:8080/",
          "height": 276
        },
        "outputId": "135ef0ae-c0aa-4320-d5d2-6573132274d2"
      },
      "outputs": [
        {
          "output_type": "display_data",
          "data": {
            "text/plain": [
              "<Figure size 432x288 with 1 Axes>"
            ],
            "image/png": "[encoded data removed]"
          },
          "metadata": {
            "needs_background": "light"
          }
        }
      ],
      "source": [
        "plt.plot(df.Longitude,'r')\n",
        "plt.plot(df.fixLongitude,\"k\")\n",
        "plt.plot(kalman_estimasi_long,\"b\")\n",
        "plt.show()"
      ]
    },
    {
      "cell_type": "code",
      "execution_count": 20,
      "metadata": {
        "id": "0IvzApD62hDl"
      },
      "outputs": [],
      "source": [
        "df[\"kalmanLongitude\"]=kalman_estimasi_long"
      ]
    },
    {
      "cell_type": "code",
      "execution_count": 21,
      "metadata": {
        "id": "a5RVJ_0C2hDm"
      },
      "outputs": [],
      "source": [
        "df[\"kalmanLatitude\"]=kalman_estimasi"
      ]
    },
    {
      "cell_type": "code",
      "execution_count": 22,
      "metadata": {
        "id": "5TCcn-6z2hDn",
        "colab": {
          "base_uri": "https://localhost:8080/",
          "height": 300
        },
        "outputId": "5db5a766-f475-439e-e264-cd54c49265f8"
      },
      "outputs": [
        {
          "output_type": "execute_result",
          "data": {
            "text/plain": [
              "         Latitude   Longitude   fixLatitude  fixLongitude  kalmanLongitude  \\\n",
              "count  854.000000  854.000000  8.540000e+02  8.540000e+02       854.000000   \n",
              "mean    -7.355517  112.774302 -7.355481e+00  1.127743e+02       112.774300   \n",
              "std      0.000013    0.000011  8.886989e-16  1.421918e-14         0.000005   \n",
              "min     -7.355562  112.774253 -7.355481e+00  1.127743e+02       112.774275   \n",
              "25%     -7.355523  112.774296 -7.355481e+00  1.127743e+02       112.774300   \n",
              "50%     -7.355518  112.774303 -7.355481e+00  1.127743e+02       112.774300   \n",
              "75%     -7.355505  112.774311 -7.355481e+00  1.127743e+02       112.774303   \n",
              "max     -7.355486  112.774319 -7.355481e+00  1.127743e+02       112.774305   \n",
              "\n",
              "       kalmanLatitude  \n",
              "count      854.000000  \n",
              "mean        -7.355508  \n",
              "std          0.000008  \n",
              "min         -7.355518  \n",
              "25%         -7.355515  \n",
              "50%         -7.355509  \n",
              "75%         -7.355502  \n",
              "max         -7.355481  "
            ],
            "text/html": [
              "\n",
              "  <div id=\"df-1ab92d71-9c8a-406a-baf1-1ab2f3d294f8\">\n",
              "    <div class=\"colab-df-container\">\n",
              "      <div>\n",
              "<style scoped>\n",
              "    .dataframe tbody tr th:only-of-type {\n",
              "        vertical-align: middle;\n",
              "    }\n",
              "\n",
              "    .dataframe tbody tr th {\n",
              "        vertical-align: top;\n",
              "    }\n",
              "\n",
              "    .dataframe thead th {\n",
              "        text-align: right;\n",
              "    }\n",
              "</style>\n",
              "<table border=\"1\" class=\"dataframe\">\n",
              "  <thead>\n",
              "    <tr style=\"text-align: right;\">\n",
              "      <th></th>\n",
              "      <th>Latitude</th>\n",
              "      <th>Longitude</th>\n",
              "      <th>fixLatitude</th>\n",
              "      <th>fixLongitude</th>\n",
              "      <th>kalmanLongitude</th>\n",
              "      <th>kalmanLatitude</th>\n",
              "    </tr>\n",
              "  </thead>\n",
              "  <tbody>\n",
              "    <tr>\n",
              "      <th>count</th>\n",
              "      <td>854.000000</td>\n",
              "      <td>854.000000</td>\n",
              "      <td>8.540000e+02</td>\n",
              "      <td>8.540000e+02</td>\n",
              "      <td>854.000000</td>\n",
              "      <td>854.000000</td>\n",
              "    </tr>\n",
              "    <tr>\n",
              "      <th>mean</th>\n",
              "      <td>-7.355517</td>\n",
              "      <td>112.774302</td>\n",
              "      <td>-7.355481e+00</td>\n",
              "      <td>1.127743e+02</td>\n",
              "      <td>112.774300</td>\n",
              "      <td>-7.355508</td>\n",
              "    </tr>\n",
              "    <tr>\n",
              "      <th>std</th>\n",
              "      <td>0.000013</td>\n",
              "      <td>0.000011</td>\n",
              "      <td>8.886989e-16</td>\n",
              "      <td>1.421918e-14</td>\n",
              "      <td>0.000005</td>\n",
              "      <td>0.000008</td>\n",
              "    </tr>\n",
              "    <tr>\n",
              "      <th>min</th>\n",
              "      <td>-7.355562</td>\n",
              "      <td>112.774253</td>\n",
              "      <td>-7.355481e+00</td>\n",
              "      <td>1.127743e+02</td>\n",
              "      <td>112.774275</td>\n",
              "      <td>-7.355518</td>\n",
              "    </tr>\n",
              "    <tr>\n",
              "      <th>25%</th>\n",
              "      <td>-7.355523</td>\n",
              "      <td>112.774296</td>\n",
              "      <td>-7.355481e+00</td>\n",
              "      <td>1.127743e+02</td>\n",
              "      <td>112.774300</td>\n",
              "      <td>-7.355515</td>\n",
              "    </tr>\n",
              "    <tr>\n",
              "      <th>50%</th>\n",
              "      <td>-7.355518</td>\n",
              "      <td>112.774303</td>\n",
              "      <td>-7.355481e+00</td>\n",
              "      <td>1.127743e+02</td>\n",
              "      <td>112.774300</td>\n",
              "      <td>-7.355509</td>\n",
              "    </tr>\n",
              "    <tr>\n",
              "      <th>75%</th>\n",
              "      <td>-7.355505</td>\n",
              "      <td>112.774311</td>\n",
              "      <td>-7.355481e+00</td>\n",
              "      <td>1.127743e+02</td>\n",
              "      <td>112.774303</td>\n",
              "      <td>-7.355502</td>\n",
              "    </tr>\n",
              "    <tr>\n",
              "      <th>max</th>\n",
              "      <td>-7.355486</td>\n",
              "      <td>112.774319</td>\n",
              "      <td>-7.355481e+00</td>\n",
              "      <td>1.127743e+02</td>\n",
              "      <td>112.774305</td>\n",
              "      <td>-7.355481</td>\n",
              "    </tr>\n",
              "  </tbody>\n",
              "</table>\n",
              "</div>\n",
              "      <button class=\"colab-df-convert\" onclick=\"convertToInteractive('df-1ab92d71-9c8a-406a-baf1-1ab2f3d294f8')\"\n",
              "              title=\"Convert this dataframe to an interactive table.\"\n",
              "              style=\"display:none;\">\n",
              "        \n",
              "  <svg xmlns=\"http://www.w3.org/2000/svg\" height=\"24px\"viewBox=\"0 0 24 24\"\n",
              "       width=\"24px\">\n",
              "    <path d=\"M0 0h24v24H0V0z\" fill=\"none\"/>\n",
              "    <path d=\"M18.56 5.44l.94 2.06.94-2.06 2.06-.94-2.06-.94-.94-2.06-.94 2.06-2.06.94zm-11 1L8.5 8.5l.94-2.06 2.06-.94-2.06-.94L8.5 2.5l-.94 2.06-2.06.94zm10 10l.94 2.06.94-2.06 2.06-.94-2.06-.94-.94-2.06-.94 2.06-2.06.94z\"/><path d=\"M17.41 7.96l-1.37-1.37c-.4-.4-.92-.59-1.43-.59-.52 0-1.04.2-1.43.59L10.3 9.45l-7.72 7.72c-.78.78-.78 2.05 0 2.83L4 21.41c.39.39.9.59 1.41.59.51 0 1.02-.2 1.41-.59l7.78-7.78 2.81-2.81c.8-.78.8-2.07 0-2.86zM5.41 20L4 18.59l7.72-7.72 1.47 1.35L5.41 20z\"/>\n",
              "  </svg>\n",
              "      </button>\n",
              "      \n",
              "  <style>\n",
              "    .colab-df-container {\n",
              "      display:flex;\n",
              "      flex-wrap:wrap;\n",
              "      gap: 12px;\n",
              "    }\n",
              "\n",
              "    .colab-df-convert {\n",
              "      background-color: #E8F0FE;\n",
              "      border: none;\n",
              "      border-radius: 50%;\n",
              "      cursor: pointer;\n",
              "      display: none;\n",
              "      fill: #1967D2;\n",
              "      height: 32px;\n",
              "      padding: 0 0 0 0;\n",
              "      width: 32px;\n",
              "    }\n",
              "\n",
              "    .colab-df-convert:hover {\n",
              "      background-color: #E2EBFA;\n",
              "      box-shadow: 0px 1px 2px rgba(60, 64, 67, 0.3), 0px 1px 3px 1px rgba(60, 64, 67, 0.15);\n",
              "      fill: #174EA6;\n",
              "    }\n",
              "\n",
              "    [theme=dark] .colab-df-convert {\n",
              "      background-color: #3B4455;\n",
              "      fill: #D2E3FC;\n",
              "    }\n",
              "\n",
              "    [theme=dark] .colab-df-convert:hover {\n",
              "      background-color: #434B5C;\n",
              "      box-shadow: 0px 1px 3px 1px rgba(0, 0, 0, 0.15);\n",
              "      filter: drop-shadow(0px 1px 2px rgba(0, 0, 0, 0.3));\n",
              "      fill: #FFFFFF;\n",
              "    }\n",
              "  </style>\n",
              "\n",
              "      <script>\n",
              "        const buttonEl =\n",
              "          document.querySelector('#df-1ab92d71-9c8a-406a-baf1-1ab2f3d294f8 button.colab-df-convert');\n",
              "        buttonEl.style.display =\n",
              "          google.colab.kernel.accessAllowed ? 'block' : 'none';\n",
              "\n",
              "        async function convertToInteractive(key) {\n",
              "          const element = document.querySelector('#df-1ab92d71-9c8a-406a-baf1-1ab2f3d294f8');\n",
              "          const dataTable =\n",
              "            await google.colab.kernel.invokeFunction('convertToInteractive',\n",
              "                                                     [key], {});\n",
              "          if (!dataTable) return;\n",
              "\n",
              "          const docLinkHtml = 'Like what you see? Visit the ' +\n",
              "            '<a target=\"_blank\" href=https://colab.research.google.com/notebooks/data_table.ipynb>data table notebook</a>'\n",
              "            + ' to learn more about interactive tables.';\n",
              "          element.innerHTML = '';\n",
              "          dataTable['output_type'] = 'display_data';\n",
              "          await google.colab.output.renderOutput(dataTable, element);\n",
              "          const docLink = document.createElement('div');\n",
              "          docLink.innerHTML = docLinkHtml;\n",
              "          element.appendChild(docLink);\n",
              "        }\n",
              "      </script>\n",
              "    </div>\n",
              "  </div>\n",
              "  "
            ]
          },
          "metadata": {},
          "execution_count": 22
        }
      ],
      "source": [
        "df.describe()"
      ]
    }
  ],
  "metadata": {
    "kernelspec": {
      "display_name": "Python 3",
      "language": "python",
      "name": "python3"
    },
    "language_info": {
      "codemirror_mode": {
        "name": "ipython",
        "version": 3
      },
      "file_extension": ".py",
      "mimetype": "text/x-python",
      "name": "python",
      "nbconvert_exporter": "python",
      "pygments_lexer": "ipython3",
      "version": "3.5.6"
    },
    "colab": {
      "provenance": [],
      "include_colab_link": true
    }
  },
  "nbformat": 4,
  "nbformat_minor": 0
}